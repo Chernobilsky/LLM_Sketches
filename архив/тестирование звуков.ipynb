{
 "cells": [
  {
   "cell_type": "markdown",
   "id": "1903b766",
   "metadata": {
    "toc": true
   },
   "source": [
    "<h1>Table of Contents<span class=\"tocSkip\"></span></h1>\n",
    "<div class=\"toc\"><ul class=\"toc-item\"></ul></div>"
   ]
  },
  {
   "cell_type": "code",
   "execution_count": 3,
   "id": "28ba3cc1",
   "metadata": {
    "ExecuteTime": {
     "end_time": "2025-06-26T16:53:46.834993Z",
     "start_time": "2025-06-26T16:53:33.599903Z"
    },
    "scrolled": true
   },
   "outputs": [
    {
     "name": "stderr",
     "output_type": "stream",
     "text": [
      "C:\\Users\\cab\\AppData\\Local\\Temp\\ipykernel_604\\3540475759.py:5: FutureWarning: librosa.beat.tempo\n",
      "\tThis function was moved to 'librosa.feature.rhythm.tempo' in librosa version 0.10.0.\n",
      "\tThis alias will be removed in librosa version 1.0.\n",
      "  \"tempo\": librosa.beat.tempo(y=audio, sr=sr)[0],\n"
     ]
    },
    {
     "name": "stdout",
     "output_type": "stream",
     "text": [
      "Валентность от −5 до +5: 2\n"
     ]
    }
   ],
   "source": [
    "import sounddevice as sd, soundfile as sf, librosa, pandas as pd, time\n",
    "audio, sr = librosa.load(\"stim.wav\", sr=None)\n",
    "feat = {\n",
    "    \"rms\": librosa.feature.rms(y=audio).mean(),\n",
    "    \"tempo\": librosa.beat.tempo(y=audio, sr=sr)[0],\n",
    "    \"centroid\": librosa.feature.spectral_centroid(y=audio, sr=sr).mean(),\n",
    "}\n",
    "sd.play(audio, sr); sd.wait()\n",
    "rating = float(input(\"Валентность от −5 до +5: \"))\n",
    "log = {**feat, \"rating\": rating, \"timestamp\": time.time()}\n",
    "pd.DataFrame([log]).to_csv(\"session.csv\", mode=\"a\", index=False)"
   ]
  },
  {
   "cell_type": "code",
   "execution_count": 4,
   "id": "7c339a18",
   "metadata": {
    "ExecuteTime": {
     "end_time": "2025-06-26T16:54:28.031601Z",
     "start_time": "2025-06-26T16:54:14.331060Z"
    },
    "scrolled": true
   },
   "outputs": [
    {
     "name": "stderr",
     "output_type": "stream",
     "text": [
      "C:\\Users\\cab\\AppData\\Local\\Temp\\ipykernel_604\\1060130101.py:8: FutureWarning: librosa.beat.tempo\n",
      "\tThis function was moved to 'librosa.feature.rhythm.tempo' in librosa version 0.10.0.\n",
      "\tThis alias will be removed in librosa version 1.0.\n",
      "  \"tempo\":    librosa.beat.tempo(y=audio, sr=sr)[0],\n"
     ]
    },
    {
     "name": "stdout",
     "output_type": "stream",
     "text": [
      "Валентность от −5 до +5: 3\n"
     ]
    }
   ],
   "source": [
    "import sounddevice as sd, soundfile as sf, librosa, pandas as pd, time\n",
    "from pathlib import Path                   # ← понадобится для проверки файла\n",
    "\n",
    "# ---------- 1. Читаем и извлекаем признаки ----------\n",
    "audio, sr = librosa.load(\"stim.wav\", sr=None)\n",
    "feat = {\n",
    "    \"rms\":      librosa.feature.rms(y=audio).mean(),\n",
    "    \"tempo\":    librosa.beat.tempo(y=audio, sr=sr)[0],\n",
    "    \"centroid\": librosa.feature.spectral_centroid(y=audio, sr=sr).mean(),\n",
    "}\n",
    "sd.play(audio, sr); sd.wait()\n",
    "\n",
    "rating = float(input(\"Валентность от −5 до +5: \"))\n",
    "log = {**feat, \"rating\": rating, \"timestamp\": time.time()}\n",
    "\n",
    "# ---------- 2. Готовим порядок колонок ----------\n",
    "desired_cols = [\"timestamp\", \"rating\", \"rms\", \"tempo\", \"centroid\"]\n",
    "\n",
    "# ---------- 3. Определяем, нужен ли заголовок ----------\n",
    "csv_path = Path(\"session_1.csv\")\n",
    "header_needed = not csv_path.exists()      # True, если файл ещё не создан\n",
    "\n",
    "# ---------- 4. Записываем (или дозаписываем) ----------\n",
    "(\n",
    "    pd.DataFrame([log], columns=desired_cols)\n",
    "      .to_csv(csv_path,\n",
    "              mode=\"a\",          # append = дозапись\n",
    "              index=False,\n",
    "              header=header_needed,\n",
    "              sep=\";\",            # чтобы Excel сразу понял разделитель\n",
    "              encoding=\"utf-8\"\n",
    "                  # корректные переводы строк в Windows\n",
    "      )\n",
    ")\n"
   ]
  },
  {
   "cell_type": "code",
   "execution_count": null,
   "id": "6b0f16d6",
   "metadata": {},
   "outputs": [],
   "source": []
  }
 ],
 "metadata": {
  "kernelspec": {
   "display_name": "Python 3 (ipykernel)",
   "language": "python",
   "name": "python3"
  },
  "language_info": {
   "codemirror_mode": {
    "name": "ipython",
    "version": 3
   },
   "file_extension": ".py",
   "mimetype": "text/x-python",
   "name": "python",
   "nbconvert_exporter": "python",
   "pygments_lexer": "ipython3",
   "version": "3.9.12"
  },
  "toc": {
   "base_numbering": 1,
   "nav_menu": {},
   "number_sections": true,
   "sideBar": true,
   "skip_h1_title": false,
   "title_cell": "Table of Contents",
   "title_sidebar": "Contents",
   "toc_cell": true,
   "toc_position": {},
   "toc_section_display": true,
   "toc_window_display": true
  }
 },
 "nbformat": 4,
 "nbformat_minor": 5
}
